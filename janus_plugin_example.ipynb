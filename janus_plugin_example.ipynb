{
  "nbformat": 4,
  "nbformat_minor": 0,
  "metadata": {
    "colab": {
      "provenance": [],
      "machine_shape": "hm",
      "gpuType": "A100"
    },
    "kernelspec": {
      "name": "python3",
      "display_name": "Python 3"
    },
    "language_info": {
      "name": "python"
    },
    "accelerator": "GPU"
  },
  "cells": [
    {
      "cell_type": "code",
      "execution_count": null,
      "metadata": {
        "id": "KZqI8gcVRp0G"
      },
      "outputs": [],
      "source": [
        "!pip install fiftyone"
      ]
    },
    {
      "cell_type": "code",
      "source": [
        "!pip install git+https://github.com/deepseek-ai/Janus.git"
      ],
      "metadata": {
        "id": "ojgF6WYqR1Jt"
      },
      "execution_count": null,
      "outputs": []
    },
    {
      "cell_type": "code",
      "source": [
        "import fiftyone as fo\n",
        "import fiftyone.zoo as foz\n",
        "\n",
        "import os\n",
        "os.environ['FIFTYONE_ALLOW_LEGACY_ORCHESTRATORS'] = 'true'"
      ],
      "metadata": {
        "id": "ckY8OV9RRwZj"
      },
      "execution_count": null,
      "outputs": []
    },
    {
      "cell_type": "code",
      "source": [
        "dataset = foz.load_zoo_dataset(\"quickstart\")"
      ],
      "metadata": {
        "id": "zz31n9fNRzmX"
      },
      "execution_count": null,
      "outputs": []
    },
    {
      "cell_type": "code",
      "source": [
        "!fiftyone plugins download https://github.com/harpreetsahota204/janus-vqa-fiftyone"
      ],
      "metadata": {
        "id": "k0-Cb-2QSByx"
      },
      "execution_count": null,
      "outputs": []
    },
    {
      "cell_type": "code",
      "source": [
        "fo.launch_app(dataset)"
      ],
      "metadata": {
        "id": "jVZWvS3pSHkp"
      },
      "execution_count": null,
      "outputs": []
    },
    {
      "cell_type": "code",
      "source": [
        "import fiftyone.operators as foo\n",
        "\n",
        "janus_operator = foo.get_operator(\"@harpreetsahota/janus_vqa/janus_vqa\")"
      ],
      "metadata": {
        "id": "c0hzi31oSKN3"
      },
      "execution_count": null,
      "outputs": []
    },
    {
      "cell_type": "code",
      "source": [
        "await janus_operator(\n",
        "    dataset,\n",
        "    model_path=\"deepseek-ai/Janus-Pro-1B\",\n",
        "    question=\"Write a funny song about this image\",\n",
        "    question_field=\"song_q\",\n",
        "    answer_field=\"song_a\",\n",
        "    delegate=True\n",
        ")"
      ],
      "metadata": {
        "id": "MTuXu7yFSqwC"
      },
      "execution_count": null,
      "outputs": []
    }
  ]
}